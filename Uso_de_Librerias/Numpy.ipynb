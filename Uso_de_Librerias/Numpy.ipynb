{
 "cells": [
  {
   "cell_type": "code",
   "execution_count": 3,
   "id": "27795cbd",
   "metadata": {},
   "outputs": [],
   "source": [
    "#Numpy - Manejo arreglos unidimensionales - bidimensionales columnas y filas\n",
    "import numpy as np\n",
    "\n",
    "#Instalar local\n",
    "#En la terminal de visual\n",
    "#pip install numpy"
   ]
  },
  {
   "cell_type": "code",
   "execution_count": 1,
   "id": "da5ae272",
   "metadata": {},
   "outputs": [
    {
     "name": "stdout",
     "output_type": "stream",
     "text": [
      "[1, 2, 3]\n",
      "[3.0, 4, 5]\n",
      "[6, 7, 8]\n",
      "4\n",
      "8\n",
      "[[1, 2, 3], [3.0, 4, 5], [6, 7, 8], [1, 2, 3], [3, 4, 5], [6, 7, 8]]\n"
     ]
    }
   ],
   "source": [
    "#ejemplo de listas\n",
    "\n",
    "A=[[1,2,3],[3.0,4,5],[6,7,8]]\n",
    "B=[[1,2,3],[3,4,5],[6,7,8]]\n",
    "\n",
    "for i in A:\n",
    "  print(i)\n",
    "\n",
    "print(A[1][1])\n",
    "print(A[2][2])\n",
    "\n",
    "print(A+B)"
   ]
  },
  {
   "cell_type": "code",
   "execution_count": 4,
   "id": "148465a6",
   "metadata": {},
   "outputs": [
    {
     "name": "stdout",
     "output_type": "stream",
     "text": [
      "[[1. 2. 3.]\n",
      " [3. 4. 5.]\n",
      " [6. 7. 8.]]\n",
      "[[1 2 3]\n",
      " [3 4 5]\n",
      " [6 7 8]]\n",
      "[[ 2.  4.  6.]\n",
      " [ 6.  8. 10.]\n",
      " [12. 14. 16.]]\n",
      "Tipo de dato: <class 'numpy.ndarray'>\n",
      "Tipo de dato de los elementos: float64\n",
      "Tipo de dato de los elementos: int64\n",
      "[]\n"
     ]
    }
   ],
   "source": [
    "#Crear arreglo desde una lista\n",
    "\n",
    "arreglo_A=np.array(A)\n",
    "print(arreglo_A)\n",
    "arreglo_B=np.array(B)\n",
    "print(arreglo_B)\n",
    "arreglo_C=arreglo_A+arreglo_B\n",
    "print(arreglo_C)\n",
    "print(f\"Tipo de dato: {type(arreglo_A)}\")\n",
    "print(f\"Tipo de dato de los elementos: {arreglo_A.dtype}\")\n",
    "print(f\"Tipo de dato de los elementos: {arreglo_B.dtype}\")\n",
    "vacio=np.array([])\n",
    "print(vacio)"
   ]
  },
  {
   "cell_type": "code",
   "execution_count": 5,
   "id": "757687f9",
   "metadata": {},
   "outputs": [
    {
     "name": "stdout",
     "output_type": "stream",
     "text": [
      "[ 1  2  3  4  5  6  7  8  9 10]\n",
      "[ 2  4  6  8 10]\n",
      "int64\n",
      "(10,)\n",
      "1\n"
     ]
    }
   ],
   "source": [
    "#Crear a partir de un rango\n",
    "\n",
    "rango_A=np.arange(1,11)\n",
    "print(rango_A)\n",
    "rango_B=np.arange(2,11,2)\n",
    "print(rango_B)\n",
    "print(rango_A.dtype)\n",
    "print(rango_A.shape)\n",
    "print(rango_A.ndim)"
   ]
  },
  {
   "cell_type": "code",
   "execution_count": 6,
   "id": "e7148436",
   "metadata": {},
   "outputs": [
    {
     "name": "stdout",
     "output_type": "stream",
     "text": [
      "[[ 2  4  6]\n",
      " [ 8 10 12]]\n",
      "(2, 3)\n",
      "2\n"
     ]
    }
   ],
   "source": [
    "lista=[[2,4,6],[8,10,12]]\n",
    "arreglo=np.array(lista)\n",
    "print(arreglo)\n",
    "print(arreglo.shape)\n",
    "print(arreglo.ndim)"
   ]
  },
  {
   "cell_type": "code",
   "execution_count": 7,
   "id": "644fd881",
   "metadata": {},
   "outputs": [
    {
     "name": "stdout",
     "output_type": "stream",
     "text": [
      "[0. 0. 0. 0. 0. 0. 0. 0. 0. 0.]\n",
      "[[0. 0. 0. 0. 0.]\n",
      " [0. 0. 0. 0. 0.]\n",
      " [0. 0. 0. 0. 0.]\n",
      " [0. 0. 0. 0. 0.]\n",
      " [0. 0. 0. 0. 0.]]\n",
      "[[  0.   0.   0.   0.   0.]\n",
      " [  0.   0.   0.   0.   0.]\n",
      " [  0.   0.   0.   0.   0.]\n",
      " [  0.   0.   0.   0. 100.]\n",
      " [  0.   0.   0.   0.   0.]]\n"
     ]
    }
   ],
   "source": [
    "#Crear arreglo con ceros\n",
    "\n",
    "ceros=np.zeros(10)\n",
    "print(ceros)\n",
    "ceros=np.zeros((5,5))\n",
    "print(ceros)\n",
    "ceros[3][4]=100\n",
    "print(ceros)"
   ]
  },
  {
   "cell_type": "code",
   "execution_count": 8,
   "id": "afe6ccc8",
   "metadata": {},
   "outputs": [
    {
     "name": "stdout",
     "output_type": "stream",
     "text": [
      "[[1. 1. 1. 1. 1.]\n",
      " [1. 1. 1. 1. 1.]\n",
      " [1. 1. 1. 1. 1.]]\n"
     ]
    }
   ],
   "source": [
    "#Crear arreglos con unos\n",
    "\n",
    "unos=np.ones((3,5))\n",
    "print(unos)"
   ]
  },
  {
   "cell_type": "code",
   "execution_count": 9,
   "id": "3b8c5b52",
   "metadata": {},
   "outputs": [
    {
     "name": "stdout",
     "output_type": "stream",
     "text": [
      "[2.         2.13793103 2.27586207 2.4137931  2.55172414 2.68965517\n",
      " 2.82758621 2.96551724 3.10344828 3.24137931 3.37931034 3.51724138\n",
      " 3.65517241 3.79310345 3.93103448 4.06896552 4.20689655 4.34482759\n",
      " 4.48275862 4.62068966 4.75862069 4.89655172 5.03448276 5.17241379\n",
      " 5.31034483 5.44827586 5.5862069  5.72413793 5.86206897 6.        ]\n",
      "------------------------------------------------------------------------------\n",
      "[[2.         2.13793103 2.27586207]\n",
      " [2.4137931  2.55172414 2.68965517]\n",
      " [2.82758621 2.96551724 3.10344828]\n",
      " [3.24137931 3.37931034 3.51724138]\n",
      " [3.65517241 3.79310345 3.93103448]\n",
      " [4.06896552 4.20689655 4.34482759]\n",
      " [4.48275862 4.62068966 4.75862069]\n",
      " [4.89655172 5.03448276 5.17241379]\n",
      " [5.31034483 5.44827586 5.5862069 ]\n",
      " [5.72413793 5.86206897 6.        ]]\n"
     ]
    }
   ],
   "source": [
    "#Crear con datos aleatorios de un rango\n",
    "\n",
    "matriz=np.linspace(2,6,30) #Del 2 al 6, genere 20 numeros\n",
    "print(matriz)\n",
    "print(\"------------------------------------------------------------------------------\")\n",
    "matriz=matriz.reshape(10,3)\n",
    "print(matriz)"
   ]
  },
  {
   "cell_type": "code",
   "execution_count": 10,
   "id": "bfc05fbd",
   "metadata": {},
   "outputs": [
    {
     "data": {
      "text/plain": [
       "array([[1., 0., 0., 0., 0.],\n",
       "       [0., 1., 0., 0., 0.],\n",
       "       [0., 0., 1., 0., 0.],\n",
       "       [0., 0., 0., 1., 0.],\n",
       "       [0., 0., 0., 0., 1.]])"
      ]
     },
     "execution_count": 10,
     "metadata": {},
     "output_type": "execute_result"
    }
   ],
   "source": [
    "#Matriz Identica\n",
    "\n",
    "matriz_identica=np.eye(5)\n",
    "matriz_identica"
   ]
  },
  {
   "cell_type": "code",
   "execution_count": 11,
   "id": "5fa01f4e",
   "metadata": {},
   "outputs": [
    {
     "data": {
      "text/plain": [
       "array([[0.28076352, 0.70867228, 0.43716894, 0.47719719, 0.14037618],\n",
       "       [0.82432308, 0.53740686, 0.51340163, 0.75081961, 0.9882087 ],\n",
       "       [0.45485169, 0.94808941, 0.08104016, 0.31461226, 0.11153865]])"
      ]
     },
     "execution_count": 11,
     "metadata": {},
     "output_type": "execute_result"
    }
   ],
   "source": [
    "#Matriz aleatoria entre 0 y 1\n",
    "\n",
    "aleatoria=np.random.rand(3,5)\n",
    "aleatoria"
   ]
  },
  {
   "cell_type": "code",
   "execution_count": 12,
   "id": "a2fc76e9",
   "metadata": {},
   "outputs": [
    {
     "data": {
      "text/plain": [
       "array([[ 0.87788635, -0.55356749, -0.07864994,  0.62546247,  0.90619528],\n",
       "       [ 0.80182405,  0.40696542,  0.25548366, -0.15344278, -0.49256426],\n",
       "       [-0.10190188, -1.50263029,  1.39588388,  0.59345547, -0.69333304],\n",
       "       [ 1.21214694, -0.25283465, -0.40895397,  1.3023854 ,  0.49460459]])"
      ]
     },
     "execution_count": 12,
     "metadata": {},
     "output_type": "execute_result"
    }
   ],
   "source": [
    "#Matriz aleatoria entre -n y n\n",
    "\n",
    "aleatoria1=np.random.randn(4,5)\n",
    "aleatoria1"
   ]
  },
  {
   "cell_type": "code",
   "execution_count": 13,
   "id": "29eee06c",
   "metadata": {},
   "outputs": [
    {
     "data": {
      "text/plain": [
       "array([[19, 13, 40,  9, 30],\n",
       "       [98, 36, 49, 30, 97],\n",
       "       [49, 50,  8, 80, 79],\n",
       "       [48, 14, 18, 91, 55],\n",
       "       [84, 44, 56, 27, 66],\n",
       "       [81, 27, 94, 62, 77],\n",
       "       [54, 60, 95, 90,  8],\n",
       "       [75, 37, 10, 75, 81],\n",
       "       [63, 85, 75, 62, 91],\n",
       "       [96, 80, 34, 84,  4]], dtype=int32)"
      ]
     },
     "execution_count": 13,
     "metadata": {},
     "output_type": "execute_result"
    }
   ],
   "source": [
    "#Matriz aleatoria de numeros enteros\n",
    "\n",
    "enteros=np.random.randint(1,101,50) #del 1 al 100, genera 50\n",
    "enteros=enteros.reshape(10,5)\n",
    "enteros"
   ]
  },
  {
   "cell_type": "code",
   "execution_count": 14,
   "id": "63b4f843",
   "metadata": {},
   "outputs": [
    {
     "data": {
      "text/plain": [
       "array([[5.78977527, 7.86743409, 6.83472129],\n",
       "       [5.20403235, 6.51406113, 7.52110134],\n",
       "       [4.18969488, 6.26461969, 4.58276221]])"
      ]
     },
     "execution_count": 14,
     "metadata": {},
     "output_type": "execute_result"
    }
   ],
   "source": [
    "#Matriz numeros aleatorios\n",
    "\n",
    "matrizAleatoria=np.random.uniform(4,9,size=(3,3))\n",
    "matrizAleatoria"
   ]
  },
  {
   "cell_type": "code",
   "execution_count": 15,
   "id": "7ebcecf3",
   "metadata": {},
   "outputs": [
    {
     "data": {
      "text/plain": [
       "array([[8., 8., 8.],\n",
       "       [8., 8., 8.],\n",
       "       [8., 8., 8.],\n",
       "       [8., 8., 8.],\n",
       "       [8., 8., 8.]])"
      ]
     },
     "execution_count": 15,
     "metadata": {},
     "output_type": "execute_result"
    }
   ],
   "source": [
    "#Matriz con unico valor\n",
    "\n",
    "ocho=np.full((5,3),8,dtype=np.float64)\n",
    "ocho"
   ]
  },
  {
   "cell_type": "code",
   "execution_count": 16,
   "id": "ee22bf31",
   "metadata": {},
   "outputs": [
    {
     "name": "stdout",
     "output_type": "stream",
     "text": [
      "[[[12 11 10]\n",
      "  [ 9  4  5]]\n",
      "\n",
      " [[13  4  5]\n",
      "  [ 2  0  8]]]\n",
      "3\n",
      "13\n"
     ]
    }
   ],
   "source": [
    "#Arreglos con mas de 2 dimensiones\n",
    "\n",
    "dimensiones=np.array([[[12,11,10],[9,4,5]],[[13,4,5],[2,0,8]]])\n",
    "print(dimensiones)\n",
    "print(dimensiones.ndim)\n",
    "print(dimensiones[1][0][0])"
   ]
  },
  {
   "cell_type": "code",
   "execution_count": 17,
   "id": "d057c7bc",
   "metadata": {},
   "outputs": [
    {
     "data": {
      "text/plain": [
       "array([[[24, 22, 20],\n",
       "        [18,  8, 10]],\n",
       "\n",
       "       [[26,  8, 10],\n",
       "        [ 4,  0, 16]]])"
      ]
     },
     "execution_count": 17,
     "metadata": {},
     "output_type": "execute_result"
    }
   ],
   "source": [
    "arreglo_operaciones=dimensiones*2\n",
    "arreglo_operaciones"
   ]
  }
 ],
 "metadata": {
  "kernelspec": {
   "display_name": "Python 3",
   "language": "python",
   "name": "python3"
  },
  "language_info": {
   "codemirror_mode": {
    "name": "ipython",
    "version": 3
   },
   "file_extension": ".py",
   "mimetype": "text/x-python",
   "name": "python",
   "nbconvert_exporter": "python",
   "pygments_lexer": "ipython3",
   "version": "3.12.4"
  }
 },
 "nbformat": 4,
 "nbformat_minor": 5
}
