{
 "cells": [
  {
   "cell_type": "code",
   "execution_count": null,
   "id": "b8a6bef0",
   "metadata": {},
   "outputs": [],
   "source": [
    "import numpy as np #Importar la libreria Numpy\n",
    "#Es un paquete muy poderoso y eficiente para trabajar con grandes volúmenes de datos numéricos.\n",
    "#Proporciona estructuras de datos como los arreglos multidimensionales (también conocidos como ndarray),\n",
    "#que son mucho más rápidos y eficientes que las listas tradicionales de Python para el manejo de grandes cantidades de datos numéricos."
   ]
  },
  {
   "cell_type": "code",
   "execution_count": null,
   "id": "d1eddc6f",
   "metadata": {},
   "outputs": [],
   "source": [
    "#Ejemplo de listas\n",
    "A=[[2,4,5],[6,7,9],[1,5,3]]\n",
    "B=[[2,4,5],[6,7,9],[1,5,3]]\n",
    "print(A+B)"
   ]
  },
  {
   "cell_type": "code",
   "execution_count": null,
   "id": "fde38d5e",
   "metadata": {},
   "outputs": [],
   "source": [
    "arreglo_A=np.array(A) #Crear arreglos desde lista\n",
    "arreglo_B=np.array(B)\n",
    "arreglo_C=arreglo_A+arreglo_B\n",
    "vacio=np.array([])\n",
    "print(\"Tipo de dato de la variable \",type(arreglo_A))\n",
    "print(\"Tipo de dato de los elementos: \",arreglo_A.dtype)\n",
    "print(arreglo_C)"
   ]
  },
  {
   "cell_type": "code",
   "execution_count": null,
   "id": "343417b0",
   "metadata": {},
   "outputs": [],
   "source": [
    "#Crear apartir de un rango\n",
    "\n",
    "rango_A=np.arange(2,10)\n",
    "print(rango_A)\n",
    "rango_B=np.arange(2,10,3)\n",
    "print(rango_B)\n",
    "print(rango_B.dtype) #Tipo de dato\n",
    "print(rango_B.shape) #tamaño del arreglo- fila y columnas\n",
    "print(rango_B.ndim) #Numero de dimensiones"
   ]
  },
  {
   "cell_type": "code",
   "execution_count": null,
   "id": "ff4980a8",
   "metadata": {},
   "outputs": [],
   "source": [
    "#Crear a partir de una lista\n",
    "lista=[[4,3,6,5],[2,9,8,3]]\n",
    "arreglo=np.array(lista)\n",
    "print(arreglo)\n",
    "print(arreglo.shape)\n",
    "print(arreglo.ndim)"
   ]
  },
  {
   "cell_type": "code",
   "execution_count": null,
   "id": "42fb46ab",
   "metadata": {},
   "outputs": [],
   "source": [
    "#Crear arreglo con ceros\n",
    "ceros=np.zeros((3,5))\n",
    "ceros[1][2]=100\n",
    "ceros"
   ]
  },
  {
   "cell_type": "code",
   "execution_count": null,
   "id": "7ec0d8c7",
   "metadata": {},
   "outputs": [],
   "source": [
    "#Crear arreglo con unos\n",
    "unos=np.ones((3,5))\n",
    "unos"
   ]
  },
  {
   "cell_type": "code",
   "execution_count": null,
   "id": "2f4b3889",
   "metadata": {},
   "outputs": [],
   "source": [
    "unos_2=np.ones(10)\n",
    "unos_2"
   ]
  },
  {
   "cell_type": "code",
   "execution_count": null,
   "id": "5556ae87",
   "metadata": {},
   "outputs": [],
   "source": [
    "#genera un arreglo de números equiespaciados desde el valor inicio hasta el valor fin, incluyendo ambos extremos, con un total de cantidad de elementos\n",
    "matriz=np.linspace(2,6,20)\n",
    "matriz"
   ]
  },
  {
   "cell_type": "code",
   "execution_count": null,
   "id": "5fcf4fe8",
   "metadata": {},
   "outputs": [],
   "source": [
    "#Matriz Identica - es una matriz cuadrada (mismo número de filas y columnas)\n",
    "#que tiene unos en la diagonal principal (de arriba a la izquierda a abajo a la derecha) y ceros en todas las demás posiciones.\n",
    "matriz_Identica=np.eye(5)\n",
    "matriz_Identica"
   ]
  },
  {
   "cell_type": "code",
   "execution_count": null,
   "id": "cf738ef9",
   "metadata": {},
   "outputs": [],
   "source": [
    "#Matriz aleatoria\n",
    "matrizAleatoria=np.random.rand(3,5)\n",
    "matrizAleatoria"
   ]
  },
  {
   "cell_type": "code",
   "execution_count": null,
   "id": "dfa4c7f4",
   "metadata": {},
   "outputs": [],
   "source": [
    "#Matriz aleatoria - Claro. Este código genera una matriz de números aleatorios con distribución normal\n",
    "#(también llamada distribución gaussiana).\n",
    "matrizNeg=np.random.randn(3,5)\n",
    "matrizNeg"
   ]
  },
  {
   "cell_type": "code",
   "execution_count": null,
   "id": "9a5ef60b",
   "metadata": {},
   "outputs": [],
   "source": [
    "#Matriz aleatoria\n",
    "matrizRandom=np.random.randint(1,101,50)\n",
    "matrizRandom"
   ]
  },
  {
   "cell_type": "code",
   "execution_count": null,
   "id": "6cb2b08e",
   "metadata": {},
   "outputs": [],
   "source": [
    "#Cambia la forma (filas y columnas) de un arreglo sin alterar su contenido.\n",
    "matrizRe=matrizRandom.reshape(10,5)\n",
    "matrizRe"
   ]
  },
  {
   "cell_type": "code",
   "execution_count": null,
   "id": "87745d19",
   "metadata": {},
   "outputs": [],
   "source": [
    "#Crear con unico valor\n",
    "Ocho=np.full((3,3),8,dtype=np.int8)\n",
    "Ocho"
   ]
  },
  {
   "cell_type": "code",
   "execution_count": null,
   "id": "505a404b",
   "metadata": {},
   "outputs": [],
   "source": [
    "#genera una matriz de números aleatorios con distribución uniforme entre 4 y 9, de tamaño 3 filas × 3 columnas\n",
    "aleatorio=np.random.uniform(4,9, size=(3,3))\n",
    "aleatorio"
   ]
  },
  {
   "cell_type": "code",
   "execution_count": null,
   "id": "7f9f1cf1",
   "metadata": {},
   "outputs": [],
   "source": [
    "dimensiones=np.array([[[12,11,10],[9,8,7]],[[13,10,9],[4,6,8]]]) #Arreglos con mas de 2 dimensiones\n",
    "print(dimensiones)\n",
    "print(dimensiones.ndim)"
   ]
  },
  {
   "cell_type": "code",
   "execution_count": null,
   "id": "71b562a1",
   "metadata": {},
   "outputs": [],
   "source": [
    "#Segmentando un Arreglo\n",
    "arreglo_1=np.array([[1,2,3],[4,5,6],[7,8,9]])\n",
    "print(arreglo_1)\n",
    "print(f\"Fila 1: {arreglo_1[0]}\") #Una sola posicion, hace referencia a una fila\n",
    "print(f\"Fila 2: {arreglo_1[1]}\")\n",
    "print(f\"Fila 3: {arreglo_1[2]}\")\n",
    "print(f\"Elemento en especifico: {arreglo_1[1][2]}\") #Fila y Columna\n",
    "print(f\"Elemento en especifico: {arreglo_1[1,0]}\")#Fila y Columna"
   ]
  },
  {
   "cell_type": "code",
   "execution_count": null,
   "id": "f3788509",
   "metadata": {},
   "outputs": [],
   "source": [
    "# imprime una porción del arreglo, usando indexación avanzada (slicing)\n",
    "print(arreglo_1)\n",
    "print(f\"{arreglo_1[:2,0:2]}\")"
   ]
  },
  {
   "cell_type": "code",
   "execution_count": null,
   "id": "ccdbfc60",
   "metadata": {},
   "outputs": [],
   "source": [
    "print(arreglo_1)\n",
    "print(f\"{arreglo_1[:,1:]}\")"
   ]
  },
  {
   "cell_type": "code",
   "execution_count": null,
   "id": "7bccc5c3",
   "metadata": {},
   "outputs": [],
   "source": [
    "print(arreglo_1)\n",
    "arreglo_1[2]=np.array([23,23,23])\n",
    "print(arreglo_1)\n",
    "arreglo_1[2]=50\n",
    "print(arreglo_1)"
   ]
  },
  {
   "cell_type": "code",
   "execution_count": null,
   "id": "7a50c480",
   "metadata": {},
   "outputs": [],
   "source": [
    "#Resumen estadistico\n",
    "print(matrizRe)\n",
    "print(f\"Sumatoria: {matrizRe.sum()}\")\n",
    "print(f\"Media: {matrizRe.mean()}\")\n",
    "print(f\"Varianza: {matrizRe.var()}\")\n",
    "print(f\"Desviacion Estandar: {matrizRe.std()}\")\n",
    "print(f\"Maximo: {matrizRe.max()}\")\n",
    "print(f\"Minimo: {matrizRe.min()}\")"
   ]
  },
  {
   "cell_type": "code",
   "execution_count": null,
   "id": "4b47164d",
   "metadata": {},
   "outputs": [],
   "source": [
    "print(matrizRe) #Eje x=axis=1 , eje y=axis=0 - muestran cómo obtener sumas y mínimos por columnas o por filas usando el parámetro axis\n",
    "print(f\"Suma Columnas: {matrizRe.sum(axis=0)}\")\n",
    "print(f\"Suma Filas: {matrizRe.sum(axis=1)}\")\n",
    "print(f\"Minimo Columnas: {matrizRe.min(axis=0)}\")\n",
    "print(f\"Minimo Filas: {matrizRe.min(axis=1)}\")"
   ]
  },
  {
   "cell_type": "code",
   "execution_count": null,
   "id": "f0987d64",
   "metadata": {},
   "outputs": [],
   "source": [
    "#Posicion de maximos o minimos\n",
    "print(matrizRe)\n",
    "print(matrizRe.argmax())\n",
    "print(matrizRe.argmin())"
   ]
  },
  {
   "cell_type": "code",
   "execution_count": null,
   "id": "7c9b1b77",
   "metadata": {},
   "outputs": [],
   "source": [
    "print(matrizRe)\n",
    "print(matrizRe.argmax(axis=1))  #devuelve los índices del valor máximo a lo largo de las filas (es decir, la dirección horizontal).\n",
    "print(matrizRe.argmin(axis=1))"
   ]
  },
  {
   "cell_type": "code",
   "execution_count": null,
   "id": "5f42c43e",
   "metadata": {},
   "outputs": [],
   "source": [
    "#Copiar un arreglo\n",
    "copia=matrizRe.copy()\n",
    "copia\n",
    "print(copia+200) #Suma por cada elemento\n",
    "copia=copia*2\n",
    "print(copia)"
   ]
  },
  {
   "cell_type": "code",
   "execution_count": null,
   "id": "bedf16f1",
   "metadata": {},
   "outputs": [],
   "source": [
    "print(matrizRe)\n",
    "condicion=matrizRe>50 #Comparacion de valores de la matriz, resultante booleanos\n",
    "print(condicion)\n",
    "print(matrizRe[condicion]) #Muestra valores que cumple la condicion"
   ]
  },
  {
   "cell_type": "code",
   "execution_count": null,
   "id": "d30f319b",
   "metadata": {},
   "outputs": [],
   "source": [
    "#La función np.where(condición, valor_si_verdadero, valor_si_falso) funciona de la siguiente manera:\n",
    "#condición: Una expresión booleana que se evalúa sobre los elementos de matrizRe. En este caso, matrizRe > 50 es la condición.\n",
    "#valor_si_verdadero: El valor que se asigna cuando la condición es verdadera (en este caso 1).\n",
    "#valor_si_falso: El valor que se asigna cuando la condición es falsa (en este caso 0).\n",
    "print(matrizRe)\n",
    "print(np.where(matrizRe>50,1,0))"
   ]
  },
  {
   "cell_type": "code",
   "execution_count": null,
   "id": "3e3f0555",
   "metadata": {},
   "outputs": [],
   "source": [
    "arreglo_2=np.arange(1,11)\n",
    "print(arreglo_2)\n",
    "print(arreglo_2+20)\n",
    "print(arreglo_2*20)"
   ]
  },
  {
   "cell_type": "code",
   "execution_count": null,
   "id": "9245684b",
   "metadata": {},
   "outputs": [],
   "source": [
    "arreglo_3=np.arange(11,21)\n",
    "print(arreglo_3)\n",
    "print(arreglo_2+arreglo_3)"
   ]
  },
  {
   "cell_type": "code",
   "execution_count": null,
   "id": "b04a4f85",
   "metadata": {},
   "outputs": [],
   "source": [
    "print(matrizRe)\n",
    "print(matrizRe.shape)\n",
    "matrizRe=matrizRe.transpose() #La transposición de una matriz consiste en intercambiar sus filas por sus columnas\n",
    "print(matrizRe)\n",
    "print(matrizRe.shape)"
   ]
  },
  {
   "cell_type": "code",
   "execution_count": null,
   "id": "2f56cde2",
   "metadata": {},
   "outputs": [],
   "source": [
    "arreglo_4=np.array([[3,5,3],[7,9,1],[3,6,5],[3,4,9]])\n",
    "arreglo_5=np.array([[7,2,9],[0,1,6],[4,5,3]])\n",
    "print(np.concatenate((arreglo_4,arreglo_5),axis=0)) #concatenar por filas (es decir, una debajo de la otra).\n",
    "print(np.concatenate((arreglo_4,arreglo_4),axis=1)) #concatenar por columnas (es decir, se añaden las columnas de arreglo_4 al lado de las columnas originales)."
   ]
  },
  {
   "cell_type": "code",
   "execution_count": null,
   "id": "072f491c",
   "metadata": {},
   "outputs": [],
   "source": [
    "#Ejercicio\n",
    "import numpy as np\n",
    "\n",
    "arreglo_ejercicio=np.array([[1,2,3],[4,5,6],[7,8,9]])\n",
    "arreglo_ejercicio"
   ]
  },
  {
   "cell_type": "code",
   "execution_count": null,
   "id": "3120e577",
   "metadata": {},
   "outputs": [],
   "source": [
    "#Mostrar ultima columna\n",
    "ultimaC=arreglo_ejercicio[:,2]\n",
    "ultimaC=arreglo_ejercicio[:,-1]\n",
    "ultimaC"
   ]
  },
  {
   "cell_type": "code",
   "execution_count": null,
   "id": "240154ee",
   "metadata": {},
   "outputs": [],
   "source": [
    "ultimaC=ultimaC.reshape(3,1) #una fila en columna (-1,1)\n",
    "ultimaC"
   ]
  },
  {
   "cell_type": "code",
   "execution_count": null,
   "id": "ce38f521",
   "metadata": {},
   "outputs": [],
   "source": [
    "#2 ultimos elementos de fila central\n",
    "dos_ultimos=arreglo_ejercicio[1,-2:]\n",
    "dos_ultimos"
   ]
  }
 ],
 "metadata": {
  "language_info": {
   "name": "python"
  }
 },
 "nbformat": 4,
 "nbformat_minor": 5
}
