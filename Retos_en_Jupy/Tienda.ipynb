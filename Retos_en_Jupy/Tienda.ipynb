{
 "cells": [
  {
   "cell_type": "code",
   "execution_count": null,
   "id": "9a6bf1e6",
   "metadata": {},
   "outputs": [],
   "source": [
    "#Calculadora Tienda de Barrio\n",
    "# Inicializamos el total de la compra en 0\n",
    "TOTAL = 0  \n",
    "\n",
    "while True:\n",
    "    # Pedir datos al tendero\n",
    "    VALOR_UNITARIO = float(input(\"Ingrese el valor unitario del producto (sin IVA): \"))\n",
    "    TIENE_IVA = input(\"¿El producto tiene IVA? (S/N): \").upper()\n",
    "    CANTIDAD = int(input(\"Ingrese la cantidad de productos: \"))\n",
    "\n",
    "    # Calcular subtotal según tenga o no IVA\n",
    "    if TIENE_IVA == \"S\":\n",
    "        SUBTOTAL = VALOR_UNITARIO * CANTIDAD * 1.19\n",
    "        print(\"IVA incluido\")\n",
    "    else:\n",
    "        SUBTOTAL = VALOR_UNITARIO * CANTIDAD\n",
    "        print(\"PRODUCTO SIN IVA\")\n",
    "\n",
    "    # Mostrar subtotal\n",
    "    print(f\"SUBTOTAL: {SUBTOTAL}\")\n",
    "\n",
    "    # Acumular el total\n",
    "    TOTAL = TOTAL + SUBTOTAL\n",
    "\n",
    "    # Preguntar si faltan productos\n",
    "    MAS_PRODUCTOS = input(\"¿Faltan productos por cobrar? (S/N): \").upper()\n",
    "    if MAS_PRODUCTOS == \"N\":\n",
    "        break  # salir del ciclo\n",
    "\n",
    "# Mostrar el total final\n",
    "print(f\"TOTAL A COBRAR: {TOTAL}\")"
   ]
  }
 ],
 "metadata": {
  "language_info": {
   "name": "python"
  }
 },
 "nbformat": 4,
 "nbformat_minor": 5
}
