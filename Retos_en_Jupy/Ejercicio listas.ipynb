{
 "cells": [
  {
   "cell_type": "code",
   "execution_count": 2,
   "id": "ee78789b",
   "metadata": {},
   "outputs": [
    {
     "name": "stdout",
     "output_type": "stream",
     "text": [
      "Lista inicial: ['Manzana', 'Platano', 'Tomate']\n",
      "Eliminados: []\n",
      "Producto agregado: Mora\n",
      "Lista de productos: ['Mora', 'Manzana', 'Platano', 'Tomate']\n",
      "Producto no disponible\n",
      "Lista de productos: ['Mora', 'Manzana', 'Platano', 'Tomate']\n",
      "Lista de eliminados: []\n",
      "Producto no disponible\n",
      "Lista de productos: ['Mora', 'Manzana', 'Platano', 'Tomate']\n",
      "Lista concatenada: ['Mora', 'Manzana', 'Platano', 'Tomate', 'papaya', ' mora', ' kiwi', ' torombolo']\n",
      "Lista con manzanas repetidas: ['Mora', 'Manzana', 'Platano', 'Tomate', 'papaya', ' mora', ' kiwi', ' torombolo', 'MANZANA', 'MANZANA', 'MANZANA', 'MANZANA']\n",
      "El producto 'manzana' aparece 5 veces en la lista.\n"
     ]
    }
   ],
   "source": [
    "#Ejercicio Propuesto Listas -- Grupo 16\n",
    "# Lista base\n",
    "Productos = [\"Manzana\", \"Platano\", \"Tomate\"]\n",
    "Eliminados = []\n",
    "\n",
    "print(\"Lista inicial:\", Productos)\n",
    "print(\"Eliminados:\", Eliminados)\n",
    "\n",
    "# 1) Insertar un nuevo producto\n",
    "Nuevo_producto = input(\"Escribe el nuevo producto de la lista: \")\n",
    "\n",
    "if Nuevo_producto in Productos:\n",
    "    print(\"El producto ya está registrado\")\n",
    "else:\n",
    "    Productos.insert(0, Nuevo_producto)   # Va al inicio\n",
    "    print(\"Producto agregado:\", Nuevo_producto)\n",
    "\n",
    "print(\"Lista de productos:\", Productos)\n",
    "\n",
    "# 2) Eliminar producto si existe\n",
    "Eliminar = input(\"Escribe el producto a eliminar de la lista: \")\n",
    "\n",
    "if Eliminar in Productos:\n",
    "    Productos.remove(Eliminar)\n",
    "    Eliminados.insert(0, Eliminar)   # guardo en eliminados\n",
    "    print(\"Producto eliminado:\", Eliminar)\n",
    "else:\n",
    "    print(\"Producto no disponible\")\n",
    "\n",
    "print(\"Lista de productos:\", Productos)\n",
    "print(\"Lista de eliminados:\", Eliminados)\n",
    "\n",
    "# 3) Buscar producto y ponerlo en MAYÚSCULAS\n",
    "Busca_producto = input(\"Producto a buscar: \")\n",
    "\n",
    "if Busca_producto in Productos:\n",
    "    indice = Productos.index(Busca_producto)   # posición\n",
    "    Productos[indice] = Productos[indice].upper()\n",
    "    print(\"Producto modificado a MAYÚSCULAS:\", Productos[indice])\n",
    "    print(\"Posición del producto:\", indice)\n",
    "else:\n",
    "    print(\"Producto no disponible\")\n",
    "\n",
    "print(\"Lista de productos:\", Productos)\n",
    "\n",
    "# 4) Concatenar nueva lista\n",
    "entrada = input(\"Ingresa productos adicionales separados por coma: \")\n",
    "Nuevos_productos = entrada.split(\",\")   # separo por comas\n",
    "\n",
    "Productos = Productos + Nuevos_productos\n",
    "print(\"Lista concatenada:\", Productos)\n",
    "\n",
    "# 5) Repetir MANZANA 4 veces\n",
    "Productos = Productos + [\"MANZANA\"]*4\n",
    "print(\"Lista con manzanas repetidas:\", Productos)\n",
    "\n",
    "# 6) Contar cuántas veces aparece manzana\n",
    "conteo = Productos.count(\"Manzana\") + Productos.count(\"MANZANA\")\n",
    "print(\"El producto 'manzana' aparece\", conteo, \"veces en la lista.\")\n"
   ]
  }
 ],
 "metadata": {
  "kernelspec": {
   "display_name": "Python 3",
   "language": "python",
   "name": "python3"
  },
  "language_info": {
   "codemirror_mode": {
    "name": "ipython",
    "version": 3
   },
   "file_extension": ".py",
   "mimetype": "text/x-python",
   "name": "python",
   "nbconvert_exporter": "python",
   "pygments_lexer": "ipython3",
   "version": "3.12.4"
  }
 },
 "nbformat": 4,
 "nbformat_minor": 5
}
