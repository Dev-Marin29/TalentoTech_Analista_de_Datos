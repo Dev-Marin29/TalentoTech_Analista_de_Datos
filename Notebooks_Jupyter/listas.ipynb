{
 "cells": [
  {
   "cell_type": "code",
   "execution_count": null,
   "id": "aed2506e",
   "metadata": {},
   "outputs": [],
   "source": [
    "#Estructuras de datos\n",
    "\n",
    "lista=[] #Lista Vacia - Mutable\n",
    "print(type(lista))\n",
    "tupla=() #Tupla Vacia - Inmutable\n",
    "print(type(tupla))\n",
    "diccionario={} #No es indexado, clave:valor - mutable\n",
    "print(type(diccionario))"
   ]
  },
  {
   "cell_type": "code",
   "execution_count": 12,
   "id": "d7d18891",
   "metadata": {},
   "outputs": [
    {
     "name": "stdout",
     "output_type": "stream",
     "text": [
      "Maria\n",
      "3.8\n",
      "200\n"
     ]
    }
   ],
   "source": [
    "lista=[\"Maria\",\"Juan\",\"Pedro\"]\n",
    "tupla=(\"Rojo\",\"Verde\",\"Azul\")\n",
    "dicc={\"nombre\":\"Maria\",\"Apellido\":\"Forero\",\"edad\":25,100:200,\"notas\":[2.5,3.8,3.9]}\n",
    "print(dicc[\"nombre\"])\n",
    "print(dicc['notas'][1])\n",
    "print(dicc[100])"
   ]
  },
  {
   "cell_type": "code",
   "execution_count": 17,
   "id": "0b9083d5",
   "metadata": {},
   "outputs": [
    {
     "name": "stdout",
     "output_type": "stream",
     "text": [
      "[23, 2, 8, 'Maria', 2.6, True, False, [4, 5, 9]]\n",
      "Cantidad de elementos 8\n",
      "9\n",
      "Maria\n"
     ]
    }
   ],
   "source": [
    "#Crear lista con datos\n",
    "\n",
    "lista_1=[23,2,8,\"Maria\",2.6,True,5<3,[4,5,9]]\n",
    "print(lista_1)\n",
    "longitud = len(lista_1) #Muestra la longitud de una coleccion\n",
    "print(f\"Cantidad de elementos {longitud}\")\n",
    "\n",
    "#Acceder a elementos especificos\n",
    "print(lista_1[7][2])\n",
    "print(lista_1[3])"
   ]
  },
  {
   "cell_type": "code",
   "execution_count": null,
   "id": "27ca2833",
   "metadata": {},
   "outputs": [],
   "source": [
    "#Recorrer la lista con un for\n",
    "\n",
    "for i in lista_1:\n",
    "    if type(i)==int:\n",
    "        print(f\"{i} Es un numero entero\")\n",
    "    elif type(i)==str:\n",
    "        print(f\"{i} es un texto.\")\n",
    "    elif type(i)==float:\n",
    "        print(f\"{i} Es un numero decimal\")\n",
    "    elif type(i)==bool:\n",
    "          print(f\"{i} Es un dato booleano\")\n",
    "    else:\n",
    "        print(f\"{i} es una lista\")\n"
   ]
  },
  {
   "cell_type": "code",
   "execution_count": null,
   "id": "f5cd34b1",
   "metadata": {},
   "outputs": [],
   "source": [
    "#Segementar una lista\n",
    "print(lista_1)\n",
    "print(lista_1[:4])\n",
    "print(lista_1[2:4])\n",
    "print(lista_1[-3:7])\n",
    "print(lista_1[4:1:-1])\n",
    "print(lista_1[:3]+lista_1[4:])\n"
   ]
  },
  {
   "cell_type": "code",
   "execution_count": 48,
   "id": "9961cedc",
   "metadata": {},
   "outputs": [
    {
     "name": "stdout",
     "output_type": "stream",
     "text": [
      "[23, 2, 8, 'Maria', 2.6, True, False, [4, 5, 9], 'Juan']\n",
      "[23, 2, 8, 'Maria', 2.6, True, False, [4, 5, 9], 'Juan', 'Luisa']\n"
     ]
    }
   ],
   "source": [
    "#Agregar un elemento nuevo al final de la lista -append\n",
    "\n",
    "print(lista_1)\n",
    "lista_1.append(\"Luisa\")\n",
    "print(lista_1)"
   ]
  },
  {
   "cell_type": "code",
   "execution_count": 52,
   "id": "e62c817b",
   "metadata": {},
   "outputs": [
    {
     "name": "stdout",
     "output_type": "stream",
     "text": [
      "[[1, 2, 3], 'Fernando', 'Fernanda', 23, 2, 8, 'Fernanda', 'Maria', 2.6, True, False, [4, 5, 9], 'Juan', 'Luisa']\n"
     ]
    }
   ],
   "source": [
    "#Agregar un elemento en una posicion especifica - insert(posicion,elmento)\n",
    "\n",
    "lista_1.insert(0,[1,2,3])\n",
    "print(lista_1)"
   ]
  },
  {
   "cell_type": "code",
   "execution_count": 53,
   "id": "affb60c1",
   "metadata": {},
   "outputs": [
    {
     "name": "stdout",
     "output_type": "stream",
     "text": [
      "[[1, 2, 3], 'Fernando', 'Fernanda', 23, 2, 8, 'Fernanda', 'Maria', 2.6, True, False, [4, 5, 9], 'Juan', 'Luisa', 'Francisco', 'Pedro', 'Tomas']\n"
     ]
    }
   ],
   "source": [
    "#Agregar varios elementos a una lista - al final de la lista\n",
    "\n",
    "lista_1.extend([\"Francisco\",\"Pedro\", \"Tomas\"])\n",
    "print(lista_1)"
   ]
  },
  {
   "cell_type": "code",
   "execution_count": 9,
   "id": "564a8295",
   "metadata": {},
   "outputs": [],
   "source": [
    "ciudades=[\"Bogota\", \"Cartagena\", \"Cali\", \"Medellin\", \"Tunja\", \"Santa merta\", \"Cucuta\"] #Lista Vacia"
   ]
  },
  {
   "cell_type": "code",
   "execution_count": 10,
   "id": "3dcc180c",
   "metadata": {},
   "outputs": [
    {
     "name": "stdout",
     "output_type": "stream",
     "text": [
      "['Bogota', 'Cartagena', 'Cali', 'Medellin', 'Tunja', 'Santa merta', 'Cucuta', 'Valencia']\n",
      "['Bogota', 'Cartagena', 'Cali', 'Medellin', 'Tunja', 'Santa Marta', 'Cucuta', 'Valencia']\n"
     ]
    }
   ],
   "source": [
    "#Agregando datos desde el teclado\n",
    "dato=input(\"Digite una ciudad >>> \").capitalize()\n",
    "ciudades.append(dato)\n",
    "print(ciudades)\n",
    "ciudades[5]='Santa Marta' #Modificamos un elemento de la lista\n",
    "print(ciudades)"
   ]
  },
  {
   "cell_type": "code",
   "execution_count": 16,
   "id": "aa845575",
   "metadata": {},
   "outputs": [
    {
     "name": "stdout",
     "output_type": "stream",
     "text": [
      "['4', '9', '7', '6', '3', '4', '2', '5', '8', '1', '20', '17', '4', '9', '3', '65', '9']\n",
      "[4, 9, 7, 6, 3, 4, 2, 5, 8, 1, 20, 17, 4, 9, 3, 65, 9]\n",
      "Sumatoria = 176\n"
     ]
    }
   ],
   "source": [
    "#estructuras de datos\n",
    "#Crear una lista de numeros\n",
    "numeros=input(\"Digite números para la lista >>> \").split(\",\") #separa el texto por medio de coma\n",
    "print(numeros)\n",
    "#Se va a convertir los numeros que están en la lista que tienen comilla en entero\n",
    "cont=0\n",
    "for i in numeros:\n",
    "    numeros[cont]= int(i)\n",
    "    cont=cont+1\n",
    "\n",
    "print(numeros)\n",
    "print(f\"Sumatoria = {sum(numeros)}\")"
   ]
  },
  {
   "cell_type": "code",
   "execution_count": 17,
   "id": "dba9ba71",
   "metadata": {},
   "outputs": [
    {
     "name": "stdout",
     "output_type": "stream",
     "text": [
      "[4, 9, 7, 6, 3, 4, 2, 5, 8, 1, 20, 17, 4, 9, 3, 65, 9]\n",
      "Sumatoria 176\n",
      "Maximo: 65\n",
      "Minimo: 1\n",
      "Cantidad de elementos: 17\n",
      "Promedio: 10.35\n"
     ]
    }
   ],
   "source": [
    "print(numeros)\n",
    "print(f\"Sumatoria {sum(numeros)}\")\n",
    "print(f\"Maximo: {max(numeros)}\")\n",
    "print(f\"Minimo: {min(numeros)}\")\n",
    "print(f\"Cantidad de elementos: {len(numeros)}\")\n",
    "print(f\"Promedio: {round(sum(numeros)/len(numeros),2)}\")\n"
   ]
  },
  {
   "cell_type": "code",
   "execution_count": 7,
   "id": "cbc0f284",
   "metadata": {},
   "outputs": [
    {
     "name": "stdout",
     "output_type": "stream",
     "text": [
      "[1, 0, 1, 0, 1, 0, 1, 0, 1, 0, 1, 0, 1, 0, 1, 0, 1, 0, 1, 0]\n"
     ]
    }
   ],
   "source": [
    "#Repetir una Lista - Generando una nueva lista\n",
    "\n",
    "datos = [1,0]\n",
    "lista_2 = datos*10 #Repetir la lista 10 veces\n",
    "print(lista_2)"
   ]
  },
  {
   "cell_type": "code",
   "execution_count": null,
   "id": "704370d1",
   "metadata": {},
   "outputs": [],
   "source": [
    "#Concatenar Listas\n",
    "A=[8,9,6]\n",
    "B=[2,6,7]\n",
    "C=A+B #+ concatenamos\n",
    "print(C)\n"
   ]
  },
  {
   "cell_type": "code",
   "execution_count": 18,
   "id": "e8e5a2f3",
   "metadata": {},
   "outputs": [
    {
     "name": "stdout",
     "output_type": "stream",
     "text": [
      "[4, 9, 7, 6, 3, 4, 2, 5, 8, 1, 20, 17, 4, 9, 3, 65, 9]\n"
     ]
    },
    {
     "data": {
      "text/plain": [
       "1"
      ]
     },
     "execution_count": 18,
     "metadata": {},
     "output_type": "execute_result"
    }
   ],
   "source": [
    "#Contar las veces que aparece un elemento en la lista\n",
    "print(numeros)\n",
    "numeros.count(20)"
   ]
  },
  {
   "cell_type": "code",
   "execution_count": 19,
   "id": "f5fc49ad",
   "metadata": {},
   "outputs": [
    {
     "name": "stdout",
     "output_type": "stream",
     "text": [
      "El número no está. \n"
     ]
    }
   ],
   "source": [
    "#Operadores de pertenencia in, not in\n",
    "n=int(input(\"Digite un número a buscar >>> \"))\n",
    "\n",
    "if n in numeros:\n",
    "    print(\"Número encontrado. \")\n",
    "else:\n",
    "    print(\"El número no está. \")\n",
    "\n",
    "    8 not in numeros #Valida su un elemento no está en la lista: True, False "
   ]
  },
  {
   "cell_type": "code",
   "execution_count": 20,
   "id": "05a69d90",
   "metadata": {},
   "outputs": [
    {
     "name": "stdout",
     "output_type": "stream",
     "text": [
      "[4, 9, 7, 6, 3, 4, 2, 5, 8, 1, 20, 17, 4, 9, 3, 65, 9]\n",
      "[9, 7, 6, 3, 4, 2, 5, 8, 1, 20, 17, 4, 9, 3, 65, 9]\n"
     ]
    }
   ],
   "source": [
    "#Eliminar un elemento en especifico: Se usa remove()\n",
    "\n",
    "print (numeros)\n",
    "numeros.remove(4)\n",
    "print(numeros)"
   ]
  },
  {
   "cell_type": "code",
   "execution_count": 23,
   "id": "d3367b11",
   "metadata": {},
   "outputs": [
    {
     "name": "stdout",
     "output_type": "stream",
     "text": [
      "[9, 7, 6, 3, 4, 2, 5, 8, 1, 20, 17, 4, 9, 3, 65, 9]\n",
      "Número no encontrado\n",
      "[9, 7, 6, 3, 4, 2, 5, 8, 1, 20, 17, 4, 9, 3, 65, 9]\n"
     ]
    }
   ],
   "source": [
    "#Eliminar un elemento en especifico: Se usa remove()\n",
    "n=int(input(\"Digite un número a buscar >>> \"))\n",
    "print (numeros)\n",
    "if n in numeros:\n",
    "    numeros.remove(n)\n",
    "    print(\"Número eliminido\")\n",
    "else:\n",
    "    print(\"Número no encontrado\")\n",
    "print(numeros)"
   ]
  },
  {
   "cell_type": "code",
   "execution_count": 22,
   "id": "f4711a29",
   "metadata": {},
   "outputs": [
    {
     "name": "stdout",
     "output_type": "stream",
     "text": [
      "El numero no se encontró\n",
      "[9, 7, 6, 3, 4, 2, 5, 8, 1, 20, 17, 4, 9, 3, 65, 9]\n"
     ]
    }
   ],
   "source": [
    "n=int(input(\"Digite un número a buscar >>> \"))\n",
    "while n in numeros:  #Eliminamos el numero con sus repeticiones\n",
    "    numeros.remove(n)\n",
    "else:\n",
    "    print(\"El numero no se encontró\")\n",
    "print(numeros)"
   ]
  },
  {
   "cell_type": "code",
   "execution_count": null,
   "id": "a0ab12cd",
   "metadata": {},
   "outputs": [],
   "source": [
    "#Eliminar el ultimo elemento de la lista usando: pop()\n",
    "\n",
    "print(numeros)\n",
    "numeros.pop()\n",
    "print(numeros)"
   ]
  },
  {
   "cell_type": "code",
   "execution_count": 19,
   "id": "57ba5038",
   "metadata": {},
   "outputs": [
    {
     "name": "stdout",
     "output_type": "stream",
     "text": [
      "[2, 3, 6, 7, 8, 9]\n",
      "[2, 3, 6, 8, 9]\n"
     ]
    }
   ],
   "source": [
    "#Eliminar el ultimo elemento de la lista usando: pop()\n",
    "\n",
    "print(numeros)\n",
    "numeros.pop(3) #Indica que se elimina el numero de la posición 3\n",
    "print(numeros)"
   ]
  },
  {
   "cell_type": "code",
   "execution_count": 21,
   "id": "2a839940",
   "metadata": {},
   "outputs": [
    {
     "name": "stdout",
     "output_type": "stream",
     "text": [
      "Sé encontró el indice 1\n"
     ]
    }
   ],
   "source": [
    "#Buscar el indice de un elemento usando (o la posición de un valor o elemento) .indice(n)\n",
    "indice = numeros.index(3)\n",
    "print(f\"Sé encontró el indice {indice}\")"
   ]
  },
  {
   "cell_type": "code",
   "execution_count": 22,
   "id": "b9bb117a",
   "metadata": {},
   "outputs": [
    {
     "name": "stdout",
     "output_type": "stream",
     "text": [
      "Sé encontró el indice 1\n"
     ]
    }
   ],
   "source": [
    "#Buscar el indice de un elemento usando (o la posición de un valor o elemento) .indice(n)\n",
    "\n",
    "if 3 in numeros:\n",
    "    indice = numeros.index(3)\n",
    "    print(f\"Sé encontró el indice {indice}\")\n",
    "else:\n",
    "    print(\"El número no está en la lista\")"
   ]
  },
  {
   "cell_type": "code",
   "execution_count": 25,
   "id": "2176a5a1",
   "metadata": {},
   "outputs": [
    {
     "name": "stdout",
     "output_type": "stream",
     "text": [
      "[9, 65, 3, 9, 4, 17, 20, 1, 8, 5, 2, 4, 3, 6, 7, 9]\n",
      "[9, 7, 6, 3, 4, 2, 5, 8, 1, 20, 17, 4, 9, 3, 65, 9]\n"
     ]
    }
   ],
   "source": [
    "#Invertir los elementos de la lista\n",
    "print(numeros)\n",
    "numeros.reverse()\n",
    "print(numeros)"
   ]
  },
  {
   "cell_type": "code",
   "execution_count": 26,
   "id": "ddf62525",
   "metadata": {},
   "outputs": [
    {
     "name": "stdout",
     "output_type": "stream",
     "text": [
      "[9, 7, 6, 3, 4, 2, 5, 8, 1, 20, 17, 4, 9, 3, 65, 9]\n",
      "[1, 2, 3, 3, 4, 4, 5, 6, 7, 8, 9, 9, 9, 17, 20, 65]\n",
      "[65, 20, 17, 9, 9, 9, 8, 7, 6, 5, 4, 4, 3, 3, 2, 1]\n"
     ]
    }
   ],
   "source": [
    "#Invertir los elementos de la lista de menor a mayoy -ascendentemente\n",
    "print(numeros)\n",
    "numeros.sort()\n",
    "print(numeros)\n",
    "numeros.reverse()\n",
    "print(numeros)"
   ]
  },
  {
   "cell_type": "code",
   "execution_count": 27,
   "id": "306ffda8",
   "metadata": {},
   "outputs": [
    {
     "name": "stdout",
     "output_type": "stream",
     "text": [
      "['Bogota', 'Cartagena', 'Cali', 'Medellin', 'Tunja', 'Santa Marta', 'Cucuta', 'Valencia']\n",
      "['Valencia', 'Tunja', 'Santa Marta', 'Medellin', 'Cucuta', 'Cartagena', 'Cali', 'Bogota']\n"
     ]
    }
   ],
   "source": [
    "print(ciudades)\n",
    "ciudades.sort(reverse=True)\n",
    "print(ciudades)"
   ]
  },
  {
   "cell_type": "code",
   "execution_count": 28,
   "id": "3e9b551e",
   "metadata": {},
   "outputs": [
    {
     "name": "stdout",
     "output_type": "stream",
     "text": [
      "['Bogota', 'Cali', 'Cartagena', 'Cucuta', 'Medellin', 'Santa Marta', 'Tunja', 'Valencia']\n"
     ]
    }
   ],
   "source": [
    "ciudades.sort()\n",
    "print(ciudades)"
   ]
  },
  {
   "cell_type": "code",
   "execution_count": null,
   "id": "59d31b1a",
   "metadata": {},
   "outputs": [],
   "source": [
    "print(C)\n",
    "C.clear #Elimina todos los elementos de la lista - queda vacia\n",
    "print(C)\n",
    "C.append(100)\n",
    "print(C)"
   ]
  },
  {
   "cell_type": "code",
   "execution_count": null,
   "id": "f869eae8",
   "metadata": {},
   "outputs": [],
   "source": [
    "print(ciudades)\n",
    "del(ciudades) #Elimina totalmente una variable\n",
    "print(ciudades)"
   ]
  }
 ],
 "metadata": {
  "kernelspec": {
   "display_name": "Python 3",
   "language": "python",
   "name": "python3"
  },
  "language_info": {
   "codemirror_mode": {
    "name": "ipython",
    "version": 3
   },
   "file_extension": ".py",
   "mimetype": "text/x-python",
   "name": "python",
   "nbconvert_exporter": "python",
   "pygments_lexer": "ipython3",
   "version": "3.12.4"
  }
 },
 "nbformat": 4,
 "nbformat_minor": 5
}
