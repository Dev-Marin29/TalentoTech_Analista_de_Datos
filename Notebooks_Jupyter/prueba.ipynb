{
 "cells": [
  {
   "cell_type": "code",
   "execution_count": 1,
   "id": "cf23e96c",
   "metadata": {},
   "outputs": [
    {
     "name": "stdout",
     "output_type": "stream",
     "text": [
      "Hola desde Jupyter en VS Code 🚀\n"
     ]
    }
   ],
   "source": [
    "print(\"Hola desde Jupyter en VS Code 🚀\")\n"
   ]
  },
  {
   "cell_type": "code",
   "execution_count": 1,
   "id": "2a0dc70c",
   "metadata": {},
   "outputs": [
    {
     "name": "stdout",
     "output_type": "stream",
     "text": [
      "Su nombre es:  Jorge  y su edad es: 89\n"
     ]
    }
   ],
   "source": [
    "Nombre = input(\"Escriba su nombre: \") #input para pedir datos#\n",
    "Edad = int(input(\"Digite su edad: \"))\n",
    "print(f\"Su nombre es:  {Nombre} y su edad es: {Edad}\" ) # con f dentro del print y precedido de las \" me da el formato automatico"
   ]
  },
  {
   "cell_type": "code",
   "execution_count": null,
   "id": "0fc0563e",
   "metadata": {},
   "outputs": [
    {
     "name": "stdout",
     "output_type": "stream",
     "text": [
      "Lista de Precios\n",
      "Fresa $5500 Libra\n",
      "Mango $4800 Unidad\n",
      "Manzana $2500 unidad\n",
      "Su subtotal es: 260000.0\n",
      "Su valor total a pagar con el descuento es: 195000.0\n"
     ]
    }
   ],
   "source": [
    "#Operadores aritmetico: +suma,-resta,*multiplicacion,/division,//DivEntera,**potenciacion,%residuo\n",
    "#Venta de Productos\n",
    "\n",
    "fresa = 5500  #el \\n es para que, el texto que sigue después aparecerá en una nueva línea.\n",
    "mango = 4800\n",
    "manzana = 2500\n",
    "#\\n representa un salto linea dentro del print\n",
    "print(f\"Lista de Precios\\nFresa ${fresa} Libra\\nMango ${mango} Unidad\\nManzana ${manzana} unidad\")\n",
    "\n",
    "#Cantidad por Productos\n",
    "\n",
    "Cant_Fresa= float(input(\"Digite la cantidad de fresa a comprar (Libras) >>> \"))\n",
    "Cant_Mango= int(input(\"Digite la cantidad de Mangos a comprar (Unidad) >>> \"))\n",
    "Cant_Manzana= int(input(\"Digite la cantidad de Manzanas a comprar (Unidad) >>> \"))\n",
    "\n",
    "#Total por producto - Multiplicación\n",
    "\n",
    "Total_Fresa= fresa * Cant_Fresa\n",
    "Total_Mangos= mango * Cant_Mango\n",
    "Total_Manzana= manzana * Cant_Manzana\n",
    "Total = Total_Fresa + Total_Mangos + Total_Manzana\n",
    "print(f\"Su subtotal es: {Total}\")\n",
    "\n",
    "#Calcular descuento 0 - 100\n",
    "\n",
    "pctDesc= float(input(\"Digite el porcentaje de descuento(0% - 100%)>>> \"))\n",
    "descuento= Total * pctDesc/100\n",
    "TotalConDescuento= Total - descuento\n",
    "print(f\"Su valor total a pagar con el descuento es: {TotalConDescuento}\")"
   ]
  },
  {
   "cell_type": "code",
   "execution_count": 2,
   "id": "9cf829e7",
   "metadata": {},
   "outputs": [],
   "source": [
    "#Estructura Condicional Simple\n",
    "\n",
    "edad = int(input(\"Digite su edad >>> \"))\n",
    "\n",
    "if edad >= 18:\n",
    "    print(f\"Usted es mayor de edad y tiene:{edad} años\")"
   ]
  }
 ],
 "metadata": {
  "kernelspec": {
   "display_name": "Python 3",
   "language": "python",
   "name": "python3"
  },
  "language_info": {
   "codemirror_mode": {
    "name": "ipython",
    "version": 3
   },
   "file_extension": ".py",
   "mimetype": "text/x-python",
   "name": "python",
   "nbconvert_exporter": "python",
   "pygments_lexer": "ipython3",
   "version": "3.12.4"
  }
 },
 "nbformat": 4,
 "nbformat_minor": 5
}
