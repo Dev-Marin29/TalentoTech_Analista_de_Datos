{
 "cells": [
  {
   "cell_type": "code",
   "execution_count": 15,
   "id": "b86967d4",
   "metadata": {},
   "outputs": [
    {
     "name": "stdout",
     "output_type": "stream",
     "text": [
      "El número está por fuera del rango. Intenta nuevamente.\n",
      "3\n"
     ]
    }
   ],
   "source": [
    "import random\n",
    "\n",
    "numeroAzar = random.randint(1,10)\n",
    "\n",
    "# Pedir al usuario que intente adivinar\n",
    "intento = int(input(\"Adivina el número secreto (entre 1 y 10): \"))\n",
    "\n",
    "# Comparar y mostrar mensajes\n",
    "if intento < 1 or intento > 10 :\n",
    "    print(\"El número está por fuera del rango. Intenta nuevamente.\")\n",
    "elif intento == numeroAzar:\n",
    "    print(\"¡Correcto! Adivinaste el número.\")\n",
    "elif intento < numeroAzar:\n",
    "    \n",
    "    print(\"Tu número es demasiado bajo.\")\n",
    "else:\n",
    "    print(\"Tu número es demasiado alto.\")\n",
    "\n",
    "print(numeroAzar)"
   ]
  },
  {
   "cell_type": "code",
   "execution_count": null,
   "id": "6d0ea8ac",
   "metadata": {},
   "outputs": [],
   "source": [
    "#Generar un numero aleatorio - modulo random\n",
    "import random #LLamando al modulo para utilizarlo\n",
    "\n",
    "numeroAzar=random.randint(1,10)\n",
    "print(numeroAzar)\n",
    "intentos=0\n",
    "\n",
    "\n",
    "for i in range(5):\n",
    "  intentos+=1\n",
    "  #intentos=intentos+1\n",
    "  oportunidad=int(input(\"Ingrese el numero ganador \"))\n",
    "\n",
    "  if oportunidad>=1 and oportunidad<=10:\n",
    "    if oportunidad == numeroAzar:\n",
    "        print(\"Correcto, Adivinaste el número.\")\n",
    "        print(f\"Lo lograste en {intentos} intentos.\")\n",
    "        break #Detener la ejecucion del ciclo\n",
    "    elif oportunidad < numeroAzar:\n",
    "        print(\"Tu numero es demasiado bajo\")\n",
    "    else:\n",
    "        print(\"Tu numero es demasiado alto\")\n",
    "else:\n",
    "    print(\"El numero esta fuera del rango\")\n",
    "\n",
    "if intentos==5 and numeroAzar!=oportunidad:\n",
    "  print(f\"El numero ganador era {numeroAzar}, sigue intentando\")"
   ]
  },
  {
   "cell_type": "code",
   "execution_count": null,
   "id": "67d7f8a6",
   "metadata": {},
   "outputs": [],
   "source": [
    "texto=\"Aprendiendo Python\"\n",
    "\n",
    "for letra in texto:\n",
    "  print(letra)"
   ]
  },
  {
   "cell_type": "code",
   "execution_count": null,
   "id": "8c50b3f7",
   "metadata": {},
   "outputs": [],
   "source": [
    "texto=\"Aprendiendo Python\"\n",
    "\n",
    "if \"A\" in texto:\n",
    "  print(\"La letra esta en el texto\")\n",
    "else:\n",
    "  print(\"No esta\")\n",
    "\n",
    "for letra in texto:\n",
    "\n",
    "  print(letra,end=\"_\")"
   ]
  },
  {
   "cell_type": "code",
   "execution_count": null,
   "id": "4d9b37f4",
   "metadata": {},
   "outputs": [],
   "source": [
    "texto=\"Aprendiendo Python\"\n",
    "\n",
    "if \"A\" in texto:\n",
    "  print(\"La letra esta en el texto\")\n",
    "else:\n",
    "  print(\"No esta\")\n",
    "\n",
    "cont=0\n",
    "for letra in texto.lower():\n",
    "\n",
    "  if letra=='a' or letra=='e' or letra=='i' or letra=='o' or letra=='u':\n",
    "    cont+=1\n",
    "  print(letra,end=\"_\")\n",
    "print(f\"\\nVocales encontradas {cont}\")"
   ]
  },
  {
   "cell_type": "code",
   "execution_count": null,
   "id": "09af358c",
   "metadata": {},
   "outputs": [],
   "source": [
    "#Recorrer un rango con for\n",
    "\n",
    "for i in range(10):\n",
    "  print(\"Hola\")"
   ]
  },
  {
   "cell_type": "code",
   "execution_count": null,
   "id": "3c1f7126",
   "metadata": {},
   "outputs": [],
   "source": [
    "#Recorrer un rango con for\n",
    "#rango 5,6,7,8,9\n",
    "for i in range(6):\n",
    "  print(i, end=\"-\")"
   ]
  },
  {
   "cell_type": "code",
   "execution_count": null,
   "id": "6601f966",
   "metadata": {},
   "outputs": [],
   "source": [
    "for i in range(10,20):\n",
    "  print(i)"
   ]
  },
  {
   "cell_type": "code",
   "execution_count": null,
   "id": "20dcc9bf",
   "metadata": {},
   "outputs": [],
   "source": [
    "for i in range(1,11):\n",
    "  print()\n",
    "  for j in range(i):\n",
    "    print(\"*\", end=\" \")"
   ]
  },
  {
   "cell_type": "code",
   "execution_count": null,
   "id": "7ca3299a",
   "metadata": {},
   "outputs": [],
   "source": [
    "lista=[4,8,9,1,6,7,2,9]\n",
    "\n",
    "for x in lista[1:4]:\n",
    "  print(x)"
   ]
  },
  {
   "cell_type": "code",
   "execution_count": null,
   "id": "b5226e5c",
   "metadata": {},
   "outputs": [],
   "source": [
    "#Generar un numero aleatorio - modulo random\n",
    "import random #LLamando al modulo para utilizarlo\n",
    "\n",
    "numeroAzar=random.randint(1,10)\n",
    "#print(numeroAzar)\n",
    "intentos=0\n",
    "\n",
    "\n",
    "for i in range(5):\n",
    "  intentos+=1\n",
    "  #intentos=intentos+1\n",
    "  oportunidad=int(input(\"Ingrese el numero ganador \"))\n",
    "\n",
    "  if oportunidad>=1 and oportunidad<=10:\n",
    "    if oportunidad == numeroAzar:\n",
    "        print(\"Correcto, Adivinaste el número.\")\n",
    "        print(f\"Lo lograste en {intentos} intentos.\")\n",
    "        break #Detener la ejecucion del ciclo\n",
    "    elif oportunidad < numeroAzar:\n",
    "        print(\"Tu numero es demasiado bajo\")\n",
    "    else:\n",
    "        print(\"Tu numero es demasiado alto\")\n",
    "else:\n",
    "  print(\"El numero esta fuera del rango\")\n",
    "\n",
    "if intentos==5 and numeroAzar!=oportunidad:\n",
    "  print(f\"El numero ganador era {numeroAzar}, sigue intentando\")"
   ]
  },
  {
   "cell_type": "code",
   "execution_count": null,
   "id": "b0da01b8",
   "metadata": {},
   "outputs": [],
   "source": [
    "texto=\"Aprendiendo Python\"\n",
    "\n",
    "if \"A\" in texto:\n",
    "  print(\"La letra esta en el texto\")\n",
    "else:\n",
    "  print(\"No esta\")\n",
    "\n",
    "cont=0\n",
    "for letra in texto.lower():\n",
    "\n",
    "  if letra=='a' or letra=='e' or letra=='i' or letra=='o' or letra=='u':\n",
    "    cont+=1\n",
    "  print(letra,end=\"_\")\n",
    "print(f\"\\nVocales encontradas {cont}\")"
   ]
  },
  {
   "cell_type": "code",
   "execution_count": null,
   "id": "73f1e5a4",
   "metadata": {},
   "outputs": [],
   "source": [
    "#Tablas de multiplicar\n",
    "\n",
    "inicial=int(input(\"Digite el numero inicial de las tablas de multiplicar >>> \"))\n",
    "final=int(input(\"Digite el numero final de las tablas de multiplicar >>> \"))\n",
    "\n",
    "for i in range(inicial, final+1):\n",
    "  tabla=i\n",
    "  for j in range(1,11):\n",
    "    print(f\"{tabla} x {j} = {tabla*j}\")"
   ]
  },
  {
   "cell_type": "code",
   "execution_count": null,
   "id": "1f0f3e66",
   "metadata": {},
   "outputs": [],
   "source": [
    "#Ciclo while\n",
    "import random\n",
    "\n",
    "azar=random.randint(1,10)\n",
    "\n",
    "while azar!=5: #mientras el numero generado no sea el 5\n",
    "  print(azar)\n",
    "  azar=random.randint(1,10)\n",
    "\n",
    "print(azar)"
   ]
  },
  {
   "cell_type": "code",
   "execution_count": null,
   "id": "fd8188ae",
   "metadata": {},
   "outputs": [],
   "source": [
    "#El usuario digita numeros hasta que digite un numero par\n",
    "\n",
    "numero=int(input(\"Digite un numero \"))\n",
    "\n",
    "while numero%2==0"
   ]
  },
  {
   "cell_type": "code",
   "execution_count": 3,
   "id": "221bc4d2",
   "metadata": {},
   "outputs": [
    {
     "name": "stdout",
     "output_type": "stream",
     "text": [
      "Es numero par\n"
     ]
    }
   ],
   "source": [
    "#El usuario digita numeros hasta que digite un numero impar\n",
    "\n",
    "numero=int(input(\"Digite un numero \"))\n",
    "\n",
    "while not(numero%2==0):\n",
    "  print(\"El numero es impar\")\n",
    "  numero=int(input(\"Digite un numero \"))\n",
    "\n",
    "print(\"Es numero par\")"
   ]
  },
  {
   "cell_type": "code",
   "execution_count": null,
   "id": "3c655e5b",
   "metadata": {},
   "outputs": [],
   "source": [
    "#Validar una edad correcta 1-100\n",
    "\n",
    "edad=int(input(\"digite la edad \"))\n",
    "\n",
    "while edad<1 or edad>100:\n",
    "  print(\"Edad Incorrecta\")\n",
    "  edad=int(input(\"digite la edad \"))\n",
    "\n",
    "if edad>=18:\n",
    "  print(\"Mayor de edad\")\n",
    "else:\n",
    "  print(\"Menor de edad\")"
   ]
  },
  {
   "cell_type": "code",
   "execution_count": null,
   "id": "b7b3a2de",
   "metadata": {},
   "outputs": [
    {
     "name": "stdout",
     "output_type": "stream",
     "text": [
      "Encontramos un número par.\n"
     ]
    }
   ],
   "source": [
    "#Cuando el while como condición utiliza un True\n",
    "\n",
    "#numero%2 !=0 or numero%3 !=0 or numero %10 != 0\n",
    "while True:\n",
    "    numero = int(input(\"Digite un número\"))\n",
    "    if numero % 3 == 0:\n",
    "        print(\"Se encontró un número impar.\")\n",
    "        break # Rompe el ciclo!\n",
    "    if numero % 10 == 0:\n",
    "        print(\"Tenemeos un multiplo de 10.\")\n",
    "        break\n",
    "    if numero % 2 == 0:\n",
    "        print(\"Encontramos un número par.\")\n",
    "        break"
   ]
  },
  {
   "cell_type": "code",
   "execution_count": null,
   "id": "64d54b06",
   "metadata": {},
   "outputs": [],
   "source": [
    "#Condicional Multiple - validar una variable para diferentes valores\n",
    "\n",
    "menu=int(input(\"Menu:\\n1. Bandeja Paisa\\n2. Arroz con Pollo\\n3. Sancocho\\n4. Mojarra\\n5. Ajiaco\\n6. Salir\\n\"))\n",
    "\n",
    "if menu==1:\n",
    "  print(\"Seleccionó Bandeja paisa valor del plato: $32000\")\n",
    "elif menu==2:\n",
    "  print(\"Seleccionó Arroz con Pollo valor del plato: $28000\")\n",
    "elif menu==3:\n",
    "  print(\"Seleccionó Sancocho valor del plato: $25000\")\n",
    "elif menu==4:\n",
    "  print(\"Seleccionó Mojarra valor del plato: $42000\")\n",
    "elif menu==5:\n",
    "  print(\"Seleccionó Ajiaco valor del plato: $28000\")\n",
    "else:\n",
    "  print(\"No seleccionó ningun plato, terminar el pedido.\")"
   ]
  }
 ],
 "metadata": {
  "kernelspec": {
   "display_name": "Python 3",
   "language": "python",
   "name": "python3"
  },
  "language_info": {
   "codemirror_mode": {
    "name": "ipython",
    "version": 3
   },
   "file_extension": ".py",
   "mimetype": "text/x-python",
   "name": "python",
   "nbconvert_exporter": "python",
   "pygments_lexer": "ipython3",
   "version": "3.12.4"
  }
 },
 "nbformat": 4,
 "nbformat_minor": 5
}
