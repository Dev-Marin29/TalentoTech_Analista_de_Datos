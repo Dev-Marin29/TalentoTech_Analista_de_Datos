{
 "cells": [
  {
   "cell_type": "code",
   "execution_count": 2,
   "id": "2327d811",
   "metadata": {},
   "outputs": [
    {
     "name": "stdout",
     "output_type": "stream",
     "text": [
      "{'Ajiaco': 28000, 'Bandeja Paisa': 35000, 'Mojarra': 55000, 'Arroz con Pollo': 28000, 'Trucha al Ajillo': 55000}\n"
     ]
    }
   ],
   "source": [
    "#Diccionario a Crear - Menú de un Restaurante\n",
    "\n",
    "menu={\"Ajiaco\":28000, \"Bandeja Paisa\":35000, \"Mojarra\":45000, \"Arroz con Pollo\":28000}\n",
    "menu[\"Mojarra\"]=55000 #Actualiza el valor de la clave\n",
    "menu[\"Trucha al Ajillo\"]=55000\n",
    "print(menu)"
   ]
  },
  {
   "cell_type": "code",
   "execution_count": 3,
   "id": "f3e7a85e",
   "metadata": {},
   "outputs": [
    {
     "data": {
      "text/plain": [
       "dict_keys(['Nombre', 'edad'])"
      ]
     },
     "execution_count": 3,
     "metadata": {},
     "output_type": "execute_result"
    }
   ],
   "source": [
    "dic={\"Nombre\":[\"Maria\",\"Pedro\",\"Juan\"],\"edad\":[25,45,19]}\n",
    "menu.items()\n",
    "dic.keys()"
   ]
  },
  {
   "cell_type": "code",
   "execution_count": null,
   "id": "8871b862",
   "metadata": {},
   "outputs": [
    {
     "name": "stdout",
     "output_type": "stream",
     "text": [
      "Ajiaco......$28000\n",
      "Bandeja Paisa......$35000\n",
      "Mojarra......$55000\n",
      "Arroz con Pollo......$28000\n",
      "Trucha al Ajillo......$55000\n"
     ]
    }
   ],
   "source": [
    "#Mostrar el menu - dic.items\n",
    "#menu.items() - Trae la pareja de clave y valor\n",
    "\n",
    "for clave,valor in menu.items():\n",
    "    print(f\"{clave}......${valor}\")"
   ]
  },
  {
   "cell_type": "code",
   "execution_count": 13,
   "id": "72e3737f",
   "metadata": {},
   "outputs": [
    {
     "data": {
      "text/plain": [
       "['Ajiaco', 'Bandeja Paisa', 'Mojarra', 'Arroz con Pollo', 'Trucha al Ajillo']"
      ]
     },
     "execution_count": 13,
     "metadata": {},
     "output_type": "execute_result"
    }
   ],
   "source": [
    "#Mostrar todas las claves del diccionario dic.keys()\n",
    "\n",
    "menu.keys()\n",
    "listaPlatos=list(menu.keys())\n",
    "listaPlatos"
   ]
  },
  {
   "cell_type": "code",
   "execution_count": 14,
   "id": "625f109f",
   "metadata": {},
   "outputs": [
    {
     "data": {
      "text/plain": [
       "[28000, 35000, 55000, 28000, 55000]"
      ]
     },
     "execution_count": 14,
     "metadata": {},
     "output_type": "execute_result"
    }
   ],
   "source": [
    "#Mostrar los valores - dic.values()\n",
    "#Listado de precios\n",
    "\n",
    "listaPrecios = list(menu.values())\n",
    "listaPrecios"
   ]
  },
  {
   "cell_type": "code",
   "execution_count": null,
   "id": "be4b0edb",
   "metadata": {},
   "outputs": [],
   "source": [
    "menu_2={\"platos\" :listaPlatos, \"Precios\" : listaPrecios}\n",
    "menu_2"
   ]
  },
  {
   "cell_type": "code",
   "execution_count": null,
   "id": "4d11bd6d",
   "metadata": {},
   "outputs": [],
   "source": [
    "#Modificar valor de una clave - dic.update()\n",
    "\n",
    "plato=input(\"Digite elnombre del plato\")\n",
    "nuevoPrecio=int(input(\"Digite el nuevo precio del plato\"))\n",
    "\n",
    "if plato in menu.keys():\n",
    "    menu.update({plato:nuevoPrecio}) #Modificando\n",
    "else:\n",
    "    print(\"Producto no disponible\")\n",
    "    #menu[plato]=nuevoPrecio #Agregando\n",
    "    menu.update({plato:nuevoPrecio}) #Agregar un elemento nuevo al dic\n",
    "    print(\"Se agrego un nuevo plato\")\n",
    "menu"
   ]
  },
  {
   "cell_type": "code",
   "execution_count": null,
   "id": "66ddfafa",
   "metadata": {},
   "outputs": [],
   "source": [
    "# Eliminar un plato del menú - dic.pop(clave)\n",
    "# dic.popitem() - elimina el último\n",
    "\n",
    "plato = input(\"Digite el nombre del plato: \")\n",
    "\n",
    "if plato in menu.keys():\n",
    "    menu.pop(plato)  # Modificando por clave\n",
    "else:\n",
    "    print(\"Producto no disponible.\")\n",
    "\n",
    "menu\n"
   ]
  },
  {
   "cell_type": "code",
   "execution_count": null,
   "id": "faa8a2f6",
   "metadata": {},
   "outputs": [],
   "source": [
    "#Eliminar el ultimo elemento,  y retorna clave:valor del que se elimino\n",
    "print(menu.popitem())"
   ]
  },
  {
   "cell_type": "code",
   "execution_count": 4,
   "id": "8185d0d8",
   "metadata": {},
   "outputs": [
    {
     "data": {
      "text/plain": [
       "{'Ajiaco': 28000,\n",
       " 'Bandeja Paisa': 35000,\n",
       " 'Mojarra': 55000,\n",
       " 'Arroz con Pollo': 28000,\n",
       " 'Trucha al Ajillo': 55000}"
      ]
     },
     "execution_count": 4,
     "metadata": {},
     "output_type": "execute_result"
    }
   ],
   "source": [
    "menu"
   ]
  }
 ],
 "metadata": {
  "kernelspec": {
   "display_name": "Python 3",
   "language": "python",
   "name": "python3"
  },
  "language_info": {
   "codemirror_mode": {
    "name": "ipython",
    "version": 3
   },
   "file_extension": ".py",
   "mimetype": "text/x-python",
   "name": "python",
   "nbconvert_exporter": "python",
   "pygments_lexer": "ipython3",
   "version": "3.12.4"
  }
 },
 "nbformat": 4,
 "nbformat_minor": 5
}
